{
 "cells": [
  {
   "cell_type": "code",
   "execution_count": 2,
   "metadata": {},
   "outputs": [
    {
     "name": "stderr",
     "output_type": "stream",
     "text": [
      "Loading pipeline components...:   0%|          | 0/2 [00:00<?, ?it/s]An error occurred while trying to fetch /Users/eang/.cache/huggingface/hub/models--google--ncsnpp-ffhq-1024/snapshots/9f964ad575b55e4d29a4fa5fe6b6e6f51955a0f0: Error no file named diffusion_pytorch_model.safetensors found in directory /Users/eang/.cache/huggingface/hub/models--google--ncsnpp-ffhq-1024/snapshots/9f964ad575b55e4d29a4fa5fe6b6e6f51955a0f0.\n",
      "Defaulting to unsafe serialization. Pass `allow_pickle=False` to raise an error instead.\n",
      "Some weights of the model checkpoint were not used when initializing UNet2DModel: \n",
      " ['time_proj.W']\n",
      "Loading pipeline components...: 100%|██████████| 2/2 [00:00<00:00,  8.57it/s]\n",
      "100%|██████████| 100/100 [18:58<00:00, 11.39s/it]\n"
     ]
    },
    {
     "ename": "TypeError",
     "evalue": "'Image' object is not subscriptable",
     "output_type": "error",
     "traceback": [
      "\u001b[0;31m---------------------------------------------------------------------------\u001b[0m",
      "\u001b[0;31mTypeError\u001b[0m                                 Traceback (most recent call last)",
      "Cell \u001b[0;32mIn[2], line 12\u001b[0m\n\u001b[1;32m     10\u001b[0m image \u001b[38;5;241m=\u001b[39m sde_ve(num_inference_steps\u001b[38;5;241m=\u001b[39m\u001b[38;5;241m100\u001b[39m)\u001b[38;5;241m.\u001b[39mimages[\u001b[38;5;241m0\u001b[39m]\n\u001b[1;32m     11\u001b[0m \u001b[38;5;66;03m# 保存图像\u001b[39;00m\n\u001b[0;32m---> 12\u001b[0m \u001b[43mimage\u001b[49m\u001b[43m[\u001b[49m\u001b[38;5;241;43m0\u001b[39;49m\u001b[43m]\u001b[49m\u001b[38;5;241m.\u001b[39msave(\u001b[38;5;124m\"\u001b[39m\u001b[38;5;124msde_ve_generated_image.png\u001b[39m\u001b[38;5;124m\"\u001b[39m)\n",
      "\u001b[0;31mTypeError\u001b[0m: 'Image' object is not subscriptable"
     ]
    }
   ],
   "source": [
    "from diffusers import DiffusionPipeline\n",
    "\n",
    "model_id = \"google/ncsnpp-ffhq-1024\"\n",
    "\n",
    "# 加载模型和调度器\n",
    "sde_ve = DiffusionPipeline.from_pretrained(model_id)\n",
    "\n",
    "# 在推理中运行管道（采样随机噪声并去噪）\n",
    "# image = sde_ve().images[0]\n",
    "image = sde_ve(num_inference_steps=100).images[0]\n",
    "# 保存图像\n",
    "image[0].save(\"sde_ve_generated_image.png\")"
   ]
  },
  {
   "cell_type": "code",
   "execution_count": 3,
   "metadata": {},
   "outputs": [],
   "source": [
    "image.save(\"sde_ve_generated_image.png\")"
   ]
  },
  {
   "cell_type": "code",
   "execution_count": null,
   "metadata": {},
   "outputs": [],
   "source": []
  }
 ],
 "metadata": {
  "kernelspec": {
   "display_name": "base",
   "language": "python",
   "name": "python3"
  },
  "language_info": {
   "codemirror_mode": {
    "name": "ipython",
    "version": 3
   },
   "file_extension": ".py",
   "mimetype": "text/x-python",
   "name": "python",
   "nbconvert_exporter": "python",
   "pygments_lexer": "ipython3",
   "version": "3.12.7"
  }
 },
 "nbformat": 4,
 "nbformat_minor": 2
}
